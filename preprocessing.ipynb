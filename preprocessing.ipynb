{
 "cells": [
  {
   "cell_type": "code",
   "execution_count": 1,
   "metadata": {},
   "outputs": [],
   "source": [
    "import os"
   ]
  },
  {
   "cell_type": "code",
   "execution_count": null,
   "metadata": {},
   "outputs": [],
   "source": [
    "f = open(\"../train.txt\")\n",
    "output = open('../preprocessed_data/train.txt','w')\n",
    "print(f.readline())\n",
    "print(f.readline())\n",
    "line = f.readline()\n",
    "while line:   \n",
    "    if line.strip() == \"\":\n",
    "        output.write('\\n')\n",
    "    else:\n",
    "        word_list = line.split()\n",
    "        output.write(word_list[0]+' '+word_list[3]+'\\n')\n",
    "    line = f.readline()     \n",
    "f.close()\n",
    "output.close()"
   ]
  },
  {
   "cell_type": "code",
   "execution_count": 3,
   "metadata": {},
   "outputs": [
    {
     "name": "stdout",
     "output_type": "stream",
     "text": [
      "-DOCSTART- -X- -X- O\n",
      "\n",
      "\n",
      "\n"
     ]
    }
   ],
   "source": [
    "f = open(\"../valid.txt\")\n",
    "output = open('../preprocessed_data/valid.txt','w')\n",
    "print(f.readline())\n",
    "print(f.readline())\n",
    "line = f.readline()\n",
    "while line:   \n",
    "    if line.strip() == \"\":\n",
    "        output.write('\\n')\n",
    "    else:\n",
    "        word_list = line.split()\n",
    "        output.write(word_list[0]+' '+word_list[3]+'\\n')\n",
    "    line = f.readline()     \n",
    "f.close()\n",
    "output.close()"
   ]
  },
  {
   "cell_type": "code",
   "execution_count": null,
   "metadata": {},
   "outputs": [],
   "source": [
    "f = open(\"../test.txt\")\n",
    "output = open('../preprocessed_data/test.txt','w')\n",
    "print(f.readline())\n",
    "print(f.readline())\n",
    "line = f.readline()\n",
    "while line:   \n",
    "    if line.strip() == \"\":\n",
    "        output.write('\\n')\n",
    "    else:\n",
    "        word_list = line.split()\n",
    "        output.write(word_list[0]+' '+word_list[3]+'\\n')\n",
    "    line = f.readline()     \n",
    "f.close()\n",
    "output.close()"
   ]
  },
  {
   "cell_type": "code",
   "execution_count": 3,
   "metadata": {},
   "outputs": [
    {
     "name": "stdout",
     "output_type": "stream",
     "text": [
      "104895\n"
     ]
    }
   ],
   "source": [
    "f = open(\"data/NLPBA_2004/Genia4EReval1.iob2\")\n",
    "count=len(f.readlines())\n",
    "print(count)\n",
    "f.close()"
   ]
  },
  {
   "cell_type": "code",
   "execution_count": 4,
   "metadata": {},
   "outputs": [
    {
     "name": "stdout",
     "output_type": "stream",
     "text": [
      "511097\n"
     ]
    }
   ],
   "source": [
    "f = open(\"data/NLPBA_2004/Genia4ERtask1.iob2\")\n",
    "count=len(f.readlines())\n",
    "print(count)\n",
    "f.close()"
   ]
  },
  {
   "cell_type": "code",
   "execution_count": 17,
   "metadata": {},
   "outputs": [],
   "source": [
    "f = open(\"data/NLPBA_2004/Genia4ERtask1.iob2\")\n",
    "output1 = open('data/NLPBA_2004/train.txt','w')\n",
    "output2 = open('data/NLPBA_2004/valid.txt','w')\n",
    "count = 1\n",
    "line = f.readline()\n",
    "while line: \n",
    "    if line.strip() == \"\":\n",
    "        out = '\\n'\n",
    "    else:\n",
    "        word_list = line.split()\n",
    "        out = word_list[0]+' '+word_list[1]+'\\n'\n",
    "    if count <= 400000:\n",
    "        output1.write(out)\n",
    "    else:\n",
    "        output2.write(out)\n",
    "    line = f.readline()     \n",
    "    count += 1\n",
    "f.close()\n",
    "output1.close()\n",
    "output2.close()"
   ]
  },
  {
   "cell_type": "code",
   "execution_count": 18,
   "metadata": {},
   "outputs": [],
   "source": [
    "f = open(\"data/NLPBA_2004/Genia4EReval1.iob2\")\n",
    "output = open('data/NLPBA_2004/test.txt','w')\n",
    "count = 1\n",
    "line = f.readline()\n",
    "while line: \n",
    "    if line.strip() == \"\":\n",
    "        out = '\\n'\n",
    "    else:\n",
    "        word_list = line.split()\n",
    "        out = word_list[0]+' '+word_list[1]+'\\n'\n",
    "    output.write(out)\n",
    "    line = f.readline()     \n",
    "    count += 1\n",
    "f.close()\n",
    "output.close()"
   ]
  },
  {
   "cell_type": "code",
   "execution_count": 7,
   "metadata": {},
   "outputs": [
    {
     "name": "stdout",
     "output_type": "stream",
     "text": [
      "166639\n"
     ]
    }
   ],
   "source": [
    "f = open(\"data/MIT_Movie_Corpus/trivia10k13train.bio\")\n",
    "count=len(f.readlines())\n",
    "print(count)\n",
    "f.close()"
   ]
  },
  {
   "cell_type": "code",
   "execution_count": 8,
   "metadata": {},
   "outputs": [
    {
     "name": "stdout",
     "output_type": "stream",
     "text": [
      "40988\n"
     ]
    }
   ],
   "source": [
    "f = open(\"data/MIT_Movie_Corpus/trivia10k13test.bio\")\n",
    "count=len(f.readlines())\n",
    "print(count)\n",
    "f.close()"
   ]
  },
  {
   "cell_type": "code",
   "execution_count": 13,
   "metadata": {},
   "outputs": [],
   "source": [
    "f = open(\"data/MIT_Movie_Corpus/trivia10k13train.bio\")\n",
    "output1 = open('data/MIT_Movie_Corpus/train.txt','w')\n",
    "output2 = open('data/MIT_Movie_Corpus/valid.txt','w')\n",
    "count = 1\n",
    "line = f.readline()\n",
    "while line: \n",
    "    if line.strip() == \"\":\n",
    "        out = '\\n'\n",
    "    else:\n",
    "        word_list = line.split()\n",
    "        out = word_list[1]+' '+word_list[0]+'\\n'\n",
    "    if count <= 130000:\n",
    "        output1.write(out)\n",
    "    else:\n",
    "        output2.write(out)\n",
    "    line = f.readline()     \n",
    "    count += 1\n",
    "f.close()\n",
    "output1.close()\n",
    "output2.close()"
   ]
  },
  {
   "cell_type": "code",
   "execution_count": 14,
   "metadata": {},
   "outputs": [],
   "source": [
    "f = open(\"data/MIT_Movie_Corpus/trivia10k13test.bio\")\n",
    "output1 = open('data/MIT_Movie_Corpus/test.txt','w')\n",
    "count = 1\n",
    "line = f.readline()\n",
    "while line: \n",
    "    if line.strip() == \"\":\n",
    "        out = '\\n'\n",
    "    else:\n",
    "        word_list = line.split()\n",
    "        out = word_list[1]+' '+word_list[0]+'\\n'\n",
    "    output1.write(out)\n",
    "    line = f.readline()     \n",
    "    count += 1\n",
    "f.close()\n",
    "output1.close()"
   ]
  },
  {
   "cell_type": "code",
   "execution_count": 19,
   "metadata": {},
   "outputs": [],
   "source": [
    "f = open(\"data/WNUT/old_train.txt\")\n",
    "output = open(\"data/WNUT/train.txt\",'w')\n",
    "count = 1\n",
    "line = f.readline()\n",
    "while line: \n",
    "    if line.strip() == \"\":\n",
    "        out = '\\n'\n",
    "    else:\n",
    "        word_list = line.split()\n",
    "        out = word_list[0]+' '+word_list[1]+'\\n'\n",
    "    output.write(out)\n",
    "    line = f.readline()     \n",
    "    count += 1\n",
    "f.close()\n",
    "output.close()"
   ]
  },
  {
   "cell_type": "code",
   "execution_count": 26,
   "metadata": {},
   "outputs": [],
   "source": [
    "f = open(\"data/WNUT/old_valid.txt\")\n",
    "output = open(\"data/WNUT/valid.txt\",'w')\n",
    "count = 1\n",
    "line = f.readline()\n",
    "while line: \n",
    "    if line.strip() == \"\":\n",
    "        out = '\\n'\n",
    "    else:\n",
    "        word_list = line.split()\n",
    "        try:\n",
    "            out = word_list[0]+' '+word_list[1]+'\\n'\n",
    "        except:\n",
    "            line = f.readline()   \n",
    "            continue\n",
    "    output.write(out)\n",
    "    line = f.readline()     \n",
    "    count += 1\n",
    "f.close()\n",
    "output.close()"
   ]
  },
  {
   "cell_type": "code",
   "execution_count": 27,
   "metadata": {},
   "outputs": [],
   "source": [
    "f = open(\"data/WNUT/old_test.txt\")\n",
    "output = open(\"data/WNUT/test.txt\",'w')\n",
    "count = 1\n",
    "line = f.readline()\n",
    "while line: \n",
    "    if line.strip() == \"\":\n",
    "        out = '\\n'\n",
    "    else:\n",
    "        word_list = line.split()\n",
    "        try:\n",
    "            out = word_list[0]+' '+word_list[1]+'\\n'\n",
    "        except:\n",
    "            line = f.readline()   \n",
    "            continue\n",
    "    output.write(out)\n",
    "    line = f.readline()     \n",
    "    count += 1\n",
    "f.close()\n",
    "output.close()"
   ]
  },
  {
   "cell_type": "code",
   "execution_count": null,
   "metadata": {},
   "outputs": [],
   "source": []
  }
 ],
 "metadata": {
  "kernelspec": {
   "display_name": "Python 3",
   "language": "python",
   "name": "python3"
  },
  "language_info": {
   "codemirror_mode": {
    "name": "ipython",
    "version": 3
   },
   "file_extension": ".py",
   "mimetype": "text/x-python",
   "name": "python",
   "nbconvert_exporter": "python",
   "pygments_lexer": "ipython3",
   "version": "3.7.3"
  }
 },
 "nbformat": 4,
 "nbformat_minor": 4
}
