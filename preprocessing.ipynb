{
 "cells": [
  {
   "cell_type": "code",
   "execution_count": 1,
   "metadata": {},
   "outputs": [],
   "source": [
    "import os"
   ]
  },
  {
   "cell_type": "code",
   "execution_count": null,
   "metadata": {},
   "outputs": [],
   "source": [
    "f = open(\"../train.txt\")\n",
    "output = open('../preprocessed_data/train.txt','w')\n",
    "print(f.readline())\n",
    "print(f.readline())\n",
    "line = f.readline()\n",
    "while line:   \n",
    "    if line.strip() == \"\":\n",
    "        output.write('\\n')\n",
    "    else:\n",
    "        word_list = line.split()\n",
    "        output.write(word_list[0]+' '+word_list[3]+'\\n')\n",
    "    line = f.readline()     \n",
    "f.close()\n",
    "output.close()"
   ]
  },
  {
   "cell_type": "code",
   "execution_count": 3,
   "metadata": {},
   "outputs": [
    {
     "name": "stdout",
     "output_type": "stream",
     "text": [
      "-DOCSTART- -X- -X- O\n",
      "\n",
      "\n",
      "\n"
     ]
    }
   ],
   "source": [
    "f = open(\"../valid.txt\")\n",
    "output = open('../preprocessed_data/valid.txt','w')\n",
    "print(f.readline())\n",
    "print(f.readline())\n",
    "line = f.readline()\n",
    "while line:   \n",
    "    if line.strip() == \"\":\n",
    "        output.write('\\n')\n",
    "    else:\n",
    "        word_list = line.split()\n",
    "        output.write(word_list[0]+' '+word_list[3]+'\\n')\n",
    "    line = f.readline()     \n",
    "f.close()\n",
    "output.close()"
   ]
  },
  {
   "cell_type": "code",
   "execution_count": null,
   "metadata": {},
   "outputs": [],
   "source": [
    "f = open(\"../test.txt\")\n",
    "output = open('../preprocessed_data/test.txt','w')\n",
    "print(f.readline())\n",
    "print(f.readline())\n",
    "line = f.readline()\n",
    "while line:   \n",
    "    if line.strip() == \"\":\n",
    "        output.write('\\n')\n",
    "    else:\n",
    "        word_list = line.split()\n",
    "        output.write(word_list[0]+' '+word_list[3]+'\\n')\n",
    "    line = f.readline()     \n",
    "f.close()\n",
    "output.close()"
   ]
  }
 ],
 "metadata": {
  "kernelspec": {
   "display_name": "Python 3",
   "language": "python",
   "name": "python3"
  },
  "language_info": {
   "codemirror_mode": {
    "name": "ipython",
    "version": 3
   },
   "file_extension": ".py",
   "mimetype": "text/x-python",
   "name": "python",
   "nbconvert_exporter": "python",
   "pygments_lexer": "ipython3",
   "version": "3.7.3"
  }
 },
 "nbformat": 4,
 "nbformat_minor": 4
}
